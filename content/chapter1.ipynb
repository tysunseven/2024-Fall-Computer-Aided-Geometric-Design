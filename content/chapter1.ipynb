{
 "cells": [
  {
   "cell_type": "markdown",
   "metadata": {},
   "source": [
    "# 贝塞尔曲线\n",
    "这是贝塞尔曲线的笔记和相关代码示例。"
   ]
  },
  {
   "cell_type": "code",
   "execution_count": null,
   "metadata": {},
   "outputs": [],
   "source": [
    "import numpy as np\n",
    "import matplotlib.pyplot as plt\n",
    "\n",
    "# 避免指定中文字体，仅确保负号显示正常\n",
    "plt.rcParams['axes.unicode_minus'] = False\n",
    "\n",
    "# 示例绘图\n",
    "t = np.linspace(0, 1, 100)\n",
    "x = t**2\n",
    "y = t**3\n",
    "plt.plot(x, y, label=\"Bezier curve example\")  # 使用英文标签\n",
    "plt.legend()\n",
    "plt.show()\n",
    "plt.close()"
   ]
  },
  {
   "cell_type": "code",
   "execution_count": null,
   "metadata": {},
   "outputs": [],
   "source": [
    "import ipywidgets as widgets\n",
    "from IPython.display import display\n",
    "\n",
    "# 创建一个滑块\n",
    "slider = widgets.IntSlider(value=50, min=0, max=100, step=1, description='Value:')\n",
    "display(slider)\n",
    "\n",
    "# 使用滑块值\n",
    "def update(value):\n",
    "    print(f\"Slider Value: {value}\")\n",
    "\n",
    "slider.observe(lambda change: update(change['new']), names='value')"
   ]
  }
 ],
 "metadata": {
  "kernelspec": {
   "display_name": "venv",
   "language": "python",
   "name": "python3"
  },
  "language_info": {
   "name": "python",
   "version": "3.12.8"
  }
 },
 "nbformat": 4,
 "nbformat_minor": 2
}
