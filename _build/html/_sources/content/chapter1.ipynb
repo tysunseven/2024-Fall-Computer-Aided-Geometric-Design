{
 "cells": [
  {
   "cell_type": "markdown",
   "metadata": {},
   "source": [
    "# 贝塞尔曲线\n",
    "这是贝塞尔曲线的笔记和相关代码示例。"
   ]
  },
  {
   "cell_type": "code",
   "execution_count": null,
   "metadata": {},
   "outputs": [],
   "source": [
    "import numpy as np\n",
    "import matplotlib.pyplot as plt\n",
    "import logging\n",
    "logging.getLogger('matplotlib').setLevel(logging.WARNING)\n",
    "\n",
    "t = np.linspace(0, 1, 100)\n",
    "x = t**2\n",
    "y = t**3\n",
    "plt.plot(x, y, label=\"贝塞尔曲线示例\")\n",
    "plt.legend()\n",
    "plt.show()\n",
    "plt.close()"
   ]
  }
 ],
 "metadata": {
  "kernelspec": {
   "display_name": "venv",
   "language": "python",
   "name": "python3"
  },
  "language_info": {
   "name": "python",
   "version": "3.12.8"
  }
 },
 "nbformat": 4,
 "nbformat_minor": 2
}
